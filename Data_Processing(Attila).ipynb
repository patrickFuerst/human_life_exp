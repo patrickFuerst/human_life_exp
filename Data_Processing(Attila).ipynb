{
 "cells": [
  {
   "cell_type": "code",
   "execution_count": null,
   "metadata": {},
   "outputs": [],
   "source": [
    "Data processing"
   ]
  },
  {
   "cell_type": "code",
   "execution_count": null,
   "metadata": {},
   "outputs": [],
   "source": [
    "- outliers\n",
    "\t- analyse distributions of variables, remove outliers usin plots, distances\n",
    "- compress data:\n",
    "\t- \n",
    "- transform variables\n",
    "\t- multivariante predicion variables! reduce to one? predict separately? predict all?\n",
    "\t- dolar based explanatory variables: is there a way to adjust for purchasing power?"
   ]
  },
  {
   "cell_type": "heading",
   "metadata": {},
   "level": 2,
   "source": [
    "Outliers"
   ]
  },
  {
   "cell_type": "code",
   "execution_count": null,
   "metadata": {},
   "outputs": [],
   "source": [
    "- analyse distributions of variables, remove outliers usin plots, distances"
   ]
  },
  {
   "cell_type": "heading",
   "metadata": {},
   "level": 2,
   "source": [
    "Compression"
   ]
  },
  {
   "cell_type": "code",
   "execution_count": null,
   "metadata": {},
   "outputs": [],
   "source": [
    "data in time-series, reduce thw whole series to one observation? since the observations spawn only from 2000 - 2016, threre are no big, time-based insights hidden there!"
   ]
  },
  {
   "cell_type": "heading",
   "metadata": {},
   "level": 2,
   "source": [
    "Transformation"
   ]
  },
  {
   "cell_type": "code",
   "execution_count": null,
   "metadata": {},
   "outputs": [],
   "source": [
    "- multivariante predicion variables! reduce to one? predict separately? predict all?\n",
    "- dolar based explanatory variables: is there a way to adjust for purchasing power?"
   ]
  }
 ],
 "metadata": {},
 "nbformat": 4,
 "nbformat_minor": 0
}
