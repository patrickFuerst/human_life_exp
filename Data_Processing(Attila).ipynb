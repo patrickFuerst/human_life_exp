{
 "cells": [
  {
   "cell_type": "markdown",
   "metadata": {
    "collapsed": true
   },
   "source": [
    "data processing\n",
    "===============\n",
    "\n",
    "\n",
    "outliers\n",
    "---------\n",
    "\n",
    "* analyse distributions of variables, remove outliers usin plots, distances\n",
    "\n",
    "Compression\n",
    "-----------\n",
    "\n",
    "data in time-series, reduce thw whole series to one observation? since the observations spawn only from 2000 - 2016, threre are no big, time-based insights hidden there!\n",
    "\n",
    "Transformation\n",
    "--------------\n",
    "\n",
    "* multivariante predicion variables! reduce to one? predict separately? predict all?\n",
    "* dolar based explanatory variables: is there a way to adjust for purchasing power?\n"
   ]
  },
  {
   "cell_type": "code",
   "execution_count": null,
   "metadata": {},
   "outputs": [],
   "source": []
  }
 ],
 "metadata": {
  "kernelspec": {
   "display_name": "Python 2",
   "language": "python",
   "name": "python2"
  },
  "language_info": {
   "codemirror_mode": {
    "name": "ipython",
    "version": 2
   },
   "file_extension": ".py",
   "mimetype": "text/x-python",
   "name": "python",
   "nbconvert_exporter": "python",
   "pygments_lexer": "ipython2",
   "version": "2.7.6"
  }
 },
 "nbformat": 4,
 "nbformat_minor": 0
}
