{
 "cells": [
  {
   "cell_type": "markdown",
   "metadata": {},
   "source": [
    "# Answers to questions\n",
    "What is the average human life expectancy in the world?<br /> \n",
    "How does this differ between low-, medium, and high-income countries? <br />\n",
    "What characteristics of countries are predictors for differences in life expectancies? <br />\n",
    "What characteristics are predictors for changes in life expectancy in a country over time?"
   ]
  },
  {
   "cell_type": "code",
   "execution_count": 104,
   "metadata": {
    "scrolled": true
   },
   "outputs": [
    {
     "name": "stderr",
     "output_type": "stream",
     "text": [
      "/usr/share/anaconda3/lib/python3.7/site-packages/pandas/core/indexing.py:543: SettingWithCopyWarning: \n",
      "A value is trying to be set on a copy of a slice from a DataFrame.\n",
      "Try using .loc[row_indexer,col_indexer] = value instead\n",
      "\n",
      "See the caveats in the documentation: http://pandas.pydata.org/pandas-docs/stable/indexing.html#indexing-view-versus-copy\n",
      "  self.obj[item] = s\n"
     ]
    }
   ],
   "source": [
    "import numpy as np\n",
    "import pandas as pd\n",
    "import matplotlib.pyplot as plt\n",
    "\n",
    "data_raw = pd.read_csv('data/processed/merged_data.csv')\n",
    "# rename columns for convenience\n",
    "data_raw.rename(index=str, columns={'Life expectancy at birth (years)  Both sexes': 'LE_both'}, inplace=True)\n",
    "data_raw.rename(index=str, columns={'Life expectancy at birth (years)  Male': 'LE_male'}, inplace=True)\n",
    "data_raw.rename(index=str, columns={'Life expectancy at birth (years)  Female': 'LE_female'}, inplace=True)\n",
    "data_raw.rename(columns={data_raw.columns[6]: 'GDP'}, inplace=True)\n",
    "# Current health expenditure (CHE) per capita in US$\n",
    "data_raw.rename(columns={data_raw.columns[7]: 'Health_expenditure'}, inplace=True)\n",
    "# Research and development expenditure\n",
    "data_raw.rename(columns={data_raw.columns[8]: 'RnD'}, inplace=True)\n",
    "#\n",
    "# basic cleansing\n",
    "#\n",
    "# South Sudan didn't exist before 2011\n",
    "data_raw.drop(data_raw.loc[(data_raw['Country'] == 'South Sudan') & (data_raw['Year'] <= 2010)].index, inplace=True)\n",
    "\n",
    "# setting income level correctly if we have GDP values\n",
    "data_raw['Income Level'] = data_raw['Income Level'].replace(np.NaN, 'Unknown', inplace=False, regex=True)\n",
    "\n",
    "incomplete_data = (data_raw[data_raw['Income Level'] == 'Unknown'])\n",
    "incomplete_data.loc[:, 'Income Level'] = incomplete_data['Income Level'].mask(incomplete_data.GDP < 995, 'L')\n",
    "incomplete_data.loc[:, 'Income Level'] = incomplete_data['Income Level'].mask(incomplete_data.GDP > 995, 'LM')\n",
    "\n",
    "# we simply drop the remaining incomplete lines\n",
    "data_raw['Income Level'] = data_raw['Income Level'].replace('Unknown', np.NaN, inplace=False, regex=True)\n",
    "data_raw.dropna(subset=['Income Level'], inplace=True)\n",
    "\n",
    "# finally copy data_raw to data which represents the cleansed data\n",
    "data = data_raw.copy()"
   ]
  },
  {
   "cell_type": "markdown",
   "metadata": {},
   "source": [
    "<strong>Side step</strong> checking correlation between GDP and income level \n",
    "show strong correlation between GDP and GNI before correction of Income Level \"Unknown\" based on GDP data; a value &gt; 0.7 means strong positive correlation"
   ]
  },
  {
   "cell_type": "code",
   "execution_count": 107,
   "metadata": {
    "scrolled": false
   },
   "outputs": [
    {
     "name": "stdout",
     "output_type": "stream",
     "text": [
      "Float64Index([1.0, 2.0, 3.0, 4.0], dtype='float64')\n",
      "Country                object\n",
      "Year                    int64\n",
      "LE_both               float64\n",
      "LE_male               float64\n",
      "LE_female             float64\n",
      "Income Level          float64\n",
      "GDP                   float64\n",
      "Health_expenditure    float64\n",
      "RnD                    object\n",
      "dtype: object\n",
      "                        Year   LE_both   LE_male  LE_female  Income Level  \\\n",
      "Year                1.000000  0.189338  0.197189   0.178376     -0.113777   \n",
      "LE_both             0.189338  1.000000  0.992062   0.993650     -0.391250   \n",
      "LE_male             0.197189  0.992062  1.000000   0.972308     -0.380759   \n",
      "LE_female           0.178376  0.993650  0.972308   1.000000     -0.396104   \n",
      "Income Level       -0.113777 -0.391250 -0.380759  -0.396104      1.000000   \n",
      "GDP                 0.144854  0.588829  0.609264   0.561301     -0.346733   \n",
      "Health_expenditure  0.146342  0.546184  0.561028   0.521055     -0.289049   \n",
      "\n",
      "                         GDP  Health_expenditure  \n",
      "Year                0.144854            0.146342  \n",
      "LE_both             0.588829            0.546184  \n",
      "LE_male             0.609264            0.561028  \n",
      "LE_female           0.561301            0.521055  \n",
      "Income Level       -0.346733           -0.289049  \n",
      "GDP                 1.000000            0.915376  \n",
      "Health_expenditure  0.915376            1.000000  \n"
     ]
    }
   ],
   "source": [
    "# checking and preparing data types of raw data\n",
    "# as we have categorial data in Income level, we must set the correct data type\n",
    "data_raw['Income Level'] = data_raw['Income Level'].astype('category')\n",
    "# assign value to each category value - Index(['H', 'L', 'LM', 'UM', 'Unknown'], dtype='object')\n",
    "print(data_raw['Income Level'].cat.categories)\n",
    "data_raw['Income Level'].cat.categories = [4,1,2,3]\n",
    "data_raw['Income Level'] = data_raw['Income Level'].astype(float)\n",
    "print(data_raw.dtypes)\n",
    "\n",
    "correlations = data_raw.corr()\n",
    "print(correlations)"
   ]
  },
  {
   "cell_type": "markdown",
   "metadata": {},
   "source": [
    "### 1. What is the average human life expectancy in the world?"
   ]
  },
  {
   "cell_type": "code",
   "execution_count": 78,
   "metadata": {},
   "outputs": [
    {
     "name": "stdout",
     "output_type": "stream",
     "text": [
      "The average life expectancy for both sexes is: 69.20586319218235\n",
      "The average life expectancy for women is : 71.57491856677521\n",
      "The average life expectancy for men is : 66.86951140065143\n"
     ]
    }
   ],
   "source": [
    "print(\"The average life expectancy for both sexes is: {0}\".format(data['LE_both'].mean()))\n",
    "print(\"The average life expectancy for women is : {0}\".format(data['LE_female'].mean()))\n",
    "print(\"The average life expectancy for men is : {0}\".format(data['LE_male'].mean()))"
   ]
  },
  {
   "cell_type": "markdown",
   "metadata": {},
   "source": [
    "### 2. How does this differ between low-, medium, and high-income countries? "
   ]
  },
  {
   "cell_type": "code",
   "execution_count": 108,
   "metadata": {},
   "outputs": [
    {
     "data": {
      "text/html": [
       "<div>\n",
       "<style scoped>\n",
       "    .dataframe tbody tr th:only-of-type {\n",
       "        vertical-align: middle;\n",
       "    }\n",
       "\n",
       "    .dataframe tbody tr th {\n",
       "        vertical-align: top;\n",
       "    }\n",
       "\n",
       "    .dataframe thead th {\n",
       "        text-align: right;\n",
       "    }\n",
       "</style>\n",
       "<table border=\"1\" class=\"dataframe\">\n",
       "  <thead>\n",
       "    <tr style=\"text-align: right;\">\n",
       "      <th></th>\n",
       "      <th>LE_both</th>\n",
       "      <th>LE_female</th>\n",
       "      <th>LE_male</th>\n",
       "    </tr>\n",
       "    <tr>\n",
       "      <th>Income Level</th>\n",
       "      <th></th>\n",
       "      <th></th>\n",
       "      <th></th>\n",
       "    </tr>\n",
       "  </thead>\n",
       "  <tbody>\n",
       "    <tr>\n",
       "      <th>H</th>\n",
       "      <td>78.480728</td>\n",
       "      <td>80.987466</td>\n",
       "      <td>75.962803</td>\n",
       "    </tr>\n",
       "    <tr>\n",
       "      <th>UM</th>\n",
       "      <td>72.419625</td>\n",
       "      <td>75.444300</td>\n",
       "      <td>69.486147</td>\n",
       "    </tr>\n",
       "    <tr>\n",
       "      <th>LM</th>\n",
       "      <td>68.115169</td>\n",
       "      <td>70.597200</td>\n",
       "      <td>65.696616</td>\n",
       "    </tr>\n",
       "    <tr>\n",
       "      <th>L</th>\n",
       "      <td>58.698972</td>\n",
       "      <td>60.228278</td>\n",
       "      <td>57.158226</td>\n",
       "    </tr>\n",
       "  </tbody>\n",
       "</table>\n",
       "</div>"
      ],
      "text/plain": [
       "                LE_both  LE_female    LE_male\n",
       "Income Level                                 \n",
       "H             78.480728  80.987466  75.962803\n",
       "UM            72.419625  75.444300  69.486147\n",
       "LM            68.115169  70.597200  65.696616\n",
       "L             58.698972  60.228278  57.158226"
      ]
     },
     "execution_count": 108,
     "metadata": {},
     "output_type": "execute_result"
    }
   ],
   "source": [
    "datagrouped = data.groupby(['Income Level'])\n",
    "datagrouped['LE_both', 'LE_female', 'LE_male'].mean().sort_values(['LE_both'],ascending=False)"
   ]
  },
  {
   "cell_type": "markdown",
   "metadata": {},
   "source": [
    "### 3. What characteristics of countries are predictors for differences in life expectancies?"
   ]
  },
  {
   "cell_type": "code",
   "execution_count": 128,
   "metadata": {},
   "outputs": [
    {
     "name": "stdout",
     "output_type": "stream",
     "text": [
      "explained variance ratio: [9.98567005e-01 1.43263823e-03 3.48448105e-07 5.86682948e-09\n",
      " 1.40890312e-09 9.65952346e-10 6.12212108e-11]\n"
     ]
    },
    {
     "data": {
      "text/html": [
       "<div>\n",
       "<style scoped>\n",
       "    .dataframe tbody tr th:only-of-type {\n",
       "        vertical-align: middle;\n",
       "    }\n",
       "\n",
       "    .dataframe tbody tr th {\n",
       "        vertical-align: top;\n",
       "    }\n",
       "\n",
       "    .dataframe thead th {\n",
       "        text-align: right;\n",
       "    }\n",
       "</style>\n",
       "<table border=\"1\" class=\"dataframe\">\n",
       "  <thead>\n",
       "    <tr style=\"text-align: right;\">\n",
       "      <th></th>\n",
       "      <th>LE_both</th>\n",
       "      <th>LE_male</th>\n",
       "      <th>LE_female</th>\n",
       "      <th>Income Level</th>\n",
       "      <th>GDP</th>\n",
       "      <th>Health_expenditure</th>\n",
       "      <th>RnD</th>\n",
       "    </tr>\n",
       "  </thead>\n",
       "  <tbody>\n",
       "    <tr>\n",
       "      <th>1</th>\n",
       "      <td>-11685.879408</td>\n",
       "      <td>121.871931</td>\n",
       "      <td>8.737111</td>\n",
       "      <td>-0.856072</td>\n",
       "      <td>-0.184462</td>\n",
       "      <td>0.624879</td>\n",
       "      <td>-0.074863</td>\n",
       "    </tr>\n",
       "    <tr>\n",
       "      <th>18</th>\n",
       "      <td>-8297.589473</td>\n",
       "      <td>30.678895</td>\n",
       "      <td>-12.093552</td>\n",
       "      <td>-1.341403</td>\n",
       "      <td>-0.282943</td>\n",
       "      <td>-0.347267</td>\n",
       "      <td>-0.032683</td>\n",
       "    </tr>\n",
       "    <tr>\n",
       "      <th>35</th>\n",
       "      <td>-8088.746461</td>\n",
       "      <td>38.123061</td>\n",
       "      <td>-12.008688</td>\n",
       "      <td>-2.813263</td>\n",
       "      <td>-0.179403</td>\n",
       "      <td>-0.475496</td>\n",
       "      <td>0.043765</td>\n",
       "    </tr>\n",
       "    <tr>\n",
       "      <th>52</th>\n",
       "      <td>-8579.617145</td>\n",
       "      <td>-102.445758</td>\n",
       "      <td>11.824887</td>\n",
       "      <td>0.785026</td>\n",
       "      <td>0.375103</td>\n",
       "      <td>-1.109025</td>\n",
       "      <td>0.052416</td>\n",
       "    </tr>\n",
       "    <tr>\n",
       "      <th>69</th>\n",
       "      <td>1405.712473</td>\n",
       "      <td>-429.319890</td>\n",
       "      <td>-5.447940</td>\n",
       "      <td>-0.134032</td>\n",
       "      <td>-0.078760</td>\n",
       "      <td>-1.044373</td>\n",
       "      <td>0.128809</td>\n",
       "    </tr>\n",
       "  </tbody>\n",
       "</table>\n",
       "</div>"
      ],
      "text/plain": [
       "         LE_both     LE_male  LE_female  Income Level       GDP  \\\n",
       "1  -11685.879408  121.871931   8.737111     -0.856072 -0.184462   \n",
       "18  -8297.589473   30.678895 -12.093552     -1.341403 -0.282943   \n",
       "35  -8088.746461   38.123061 -12.008688     -2.813263 -0.179403   \n",
       "52  -8579.617145 -102.445758  11.824887      0.785026  0.375103   \n",
       "69   1405.712473 -429.319890  -5.447940     -0.134032 -0.078760   \n",
       "\n",
       "    Health_expenditure       RnD  \n",
       "1             0.624879 -0.074863  \n",
       "18           -0.347267 -0.032683  \n",
       "35           -0.475496  0.043765  \n",
       "52           -1.109025  0.052416  \n",
       "69           -1.044373  0.128809  "
      ]
     },
     "execution_count": 128,
     "metadata": {},
     "output_type": "execute_result"
    }
   ],
   "source": [
    "from sklearn.decomposition import PCA\n",
    "\n",
    "# cleansing for PCA\n",
    "data_pca = data.copy()\n",
    "data_pca = (data_pca[data_pca['Year'] == 2015])\n",
    "data_pca.drop(columns=['Country', 'Year'], inplace=True)\n",
    "# as we have categorial data in Income level, we must set the correct data type\n",
    "data_pca['Income Level'] = data_pca['Income Level'].astype('category')\n",
    "# assign value to each category value - Index(['H', 'L', 'LM', 'UM'], dtype='object')\n",
    "data_pca['Income Level'].cat.categories = [4,1,2,3]\n",
    "data_pca['Income Level'] = data_pca['Income Level'].astype(float)\n",
    "data_pca.fillna(0, inplace=True)\n",
    "\n",
    "pca = PCA(n_components=7)\n",
    "pca.fit(data_pca)\n",
    "#pca.components_\n",
    "\n",
    "# Percentage of variance explained for each components\n",
    "print('explained variance ratio: %s'\n",
    "      % str(pca.explained_variance_ratio_))\n",
    "\n",
    "df_pca = pd.DataFrame(pca.transform(data_pca), columns=data_pca.columns, index=data_pca.index)\n",
    "df_pca.head()\n"
   ]
  },
  {
   "cell_type": "code",
   "execution_count": 122,
   "metadata": {
    "scrolled": false
   },
   "outputs": [
    {
     "name": "stdout",
     "output_type": "stream",
     "text": [
      "                        Year   LE_both   LE_male  LE_female       GDP  \\\n",
      "Year                1.000000  0.189338  0.197189   0.178376  0.144854   \n",
      "LE_both             0.189338  1.000000  0.992062   0.993650  0.588829   \n",
      "LE_male             0.197189  0.992062  1.000000   0.972308  0.609264   \n",
      "LE_female           0.178376  0.993650  0.972308   1.000000  0.561301   \n",
      "GDP                 0.144854  0.588829  0.609264   0.561301  1.000000   \n",
      "Health_expenditure  0.146342  0.546184  0.561028   0.521055  0.915376   \n",
      "\n",
      "                    Health_expenditure  \n",
      "Year                          0.146342  \n",
      "LE_both                       0.546184  \n",
      "LE_male                       0.561028  \n",
      "LE_female                     0.521055  \n",
      "GDP                           0.915376  \n",
      "Health_expenditure            1.000000  \n"
     ]
    },
    {
     "data": {
      "image/png": "[encoded data removed]",
      "text/plain": [
       "<Figure size 432x288 with 2 Axes>"
      ]
     },
     "metadata": {
      "needs_background": "light"
     },
     "output_type": "display_data"
    }
   ],
   "source": [
    "correlations = data.corr()\n",
    "print(correlations)\n",
    "# plot correlation matrix\n",
    "fig = plt.figure()\n",
    "ax = fig.add_subplot(111)\n",
    "cax = ax.matshow(correlations, vmin=-1, vmax=1)\n",
    "fig.colorbar(cax)\n",
    "ax.xaxis.set_tick_params(rotation=90)\n",
    "ax.set_xticklabels(data.columns)\n",
    "ax.set_yticklabels(data.columns)\n",
    "plt.show()"
   ]
  },
  {
   "cell_type": "markdown",
   "metadata": {},
   "source": [
    "As we can see this is not satisfactoring result, there is no strong correlation between GDP and life expectancy at birth. So let's look at a scatter plot and check if there is at least some linear relation between these variables."
   ]
  },
  {
   "cell_type": "code",
   "execution_count": 35,
   "metadata": {
    "scrolled": true
   },
   "outputs": [
    {
     "data": {
      "text/plain": [
       "<matplotlib.collections.PathCollection at 0x7fa15ffd4320>"
      ]
     },
     "execution_count": 35,
     "metadata": {},
     "output_type": "execute_result"
    },
    {
     "data": {
      "image/png": "[encoded data removed]",
      "text/plain": [
       "<Figure size 432x288 with 1 Axes>"
      ]
     },
     "metadata": {
      "needs_background": "light"
     },
     "output_type": "display_data"
    }
   ],
   "source": [
    "from pandas.plotting import scatter_matrix\n",
    "#scatter_matrix(data)\n",
    "#plt.show()\n",
    "# show simple scatter plot\n",
    "plt.ylabel('GDP')\n",
    "plt.xlabel('Life expectancy at birth, both sexes')\n",
    "plt.scatter(data[\"LE_both\"], data[\"GDP\"])"
   ]
  },
  {
   "cell_type": "markdown",
   "metadata": {},
   "source": [
    "Next, we'll look at the correlation between 70 and older, maybe we can get better results."
   ]
  },
  {
   "cell_type": "code",
   "execution_count": 123,
   "metadata": {},
   "outputs": [
    {
     "name": "stdout",
     "output_type": "stream",
     "text": [
      "                        Year   LE_both   LE_male  LE_female       GDP  \\\n",
      "Year                1.000000  0.176792  0.169786   0.170633  0.132430   \n",
      "LE_both             0.176792  1.000000  0.962756   0.958128  0.731436   \n",
      "LE_male             0.169786  0.962756  1.000000   0.846477  0.728348   \n",
      "LE_female           0.170633  0.958128  0.846477   1.000000  0.679895   \n",
      "GDP                 0.132430  0.731436  0.728348   0.679895  1.000000   \n",
      "Health_expenditure  0.151750  0.747082  0.716340   0.713568  0.899209   \n",
      "\n",
      "                    Health_expenditure  \n",
      "Year                          0.151750  \n",
      "LE_both                       0.747082  \n",
      "LE_male                       0.716340  \n",
      "LE_female                     0.713568  \n",
      "GDP                           0.899209  \n",
      "Health_expenditure            1.000000  \n"
     ]
    },
    {
     "data": {
      "image/png": "[encoded data removed]",
      "text/plain": [
       "<Figure size 432x288 with 2 Axes>"
      ]
     },
     "metadata": {
      "needs_background": "light"
     },
     "output_type": "display_data"
    }
   ],
   "source": [
    "data_elderly = data[data.LE_both > 70]\n",
    "correlations_elderly = data_elderly.corr()\n",
    "print(correlations_elderly)\n",
    "# plot correlation matrix\n",
    "fig = plt.figure()\n",
    "ax = fig.add_subplot(111)\n",
    "cax = ax.matshow(correlations_elderly, vmin=-1, vmax=1)\n",
    "fig.colorbar(cax)\n",
    "ax.xaxis.set_tick_params(rotation=90)\n",
    "ax.set_xticklabels(data.columns)\n",
    "ax.set_yticklabels(data.columns)\n",
    "plt.show()"
   ]
  }
 ],
 "metadata": {
  "kernelspec": {
   "display_name": "Python 3",
   "language": "python",
   "name": "python3"
  },
  "language_info": {
   "codemirror_mode": {
    "name": "ipython",
    "version": 3
   },
   "file_extension": ".py",
   "mimetype": "text/x-python",
   "name": "python",
   "nbconvert_exporter": "python",
   "pygments_lexer": "ipython3",
   "version": "3.7.0"
  }
 },
 "nbformat": 4,
 "nbformat_minor": 2
}
