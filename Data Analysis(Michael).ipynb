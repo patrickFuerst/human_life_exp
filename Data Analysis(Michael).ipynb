{
 "cells": [
  {
   "cell_type": "markdown",
   "metadata": {},
   "source": [
    "# Answers to questions\n",
    "What is the average human life expectancy in the world?<br /> \n",
    "How does this differ between low-, medium, and high-income countries? <br />\n",
    "What characteristics of countries are predictors for differences in life expectancies? <br />\n",
    "What characteristics are predictors for changes in life expectancy in a country over time?"
   ]
  },
  {
   "cell_type": "code",
   "execution_count": null,
   "metadata": {},
   "outputs": [],
   "source": [
    "import numpy as np\n",
    "import pandas as pd\n",
    "import matplotlib.pyplot as plt\n",
    "\n",
    "data = pd.read_csv('data/processed/merged_data.csv')\n",
    "# rename columns for convenience\n",
    "data.rename(index=str, columns={'Life expectancy at birth (years)  Both sexes': 'LE_both'}, inplace=True)\n",
    "data.rename(index=str, columns={'Life expectancy at birth (years)  Male': 'LE_male'}, inplace=True)\n",
    "data.rename(index=str, columns={'Life expectancy at birth (years)  Female': 'LE_female'}, inplace=True)\n",
    "data.rename(columns={data.columns[7]: 'CHE_in_USD'}, inplace=True)\n",
    "data.rename(columns={data.columns[8]: 'RnD_ex_pct'}, inplace=True)\n",
    "#"
   ]
  },
  {
   "cell_type": "markdown",
   "metadata": {},
   "source": [
    "### 1. What is the average human life expectancy in the world?"
   ]
  },
  {
   "cell_type": "code",
   "execution_count": 17,
   "metadata": {},
   "outputs": [
    {
     "name": "stdout",
     "output_type": "stream",
     "text": [
      "The average life expectancy for both sexes is: 69.14255866280932\n",
      "The average life expectancy for women is : 71.50485374477658\n",
      "The average life expectancy for men is : 66.81224686595947\n"
     ]
    }
   ],
   "source": [
    "print(\"The average life expectancy for both sexes is: {0}\".format(data['LE_both'].mean()))\n",
    "print(\"The average life expectancy for women is : {0}\".format(data['LE_female'].mean()))\n",
    "print(\"The average life expectancy for men is : {0}\".format(data['LE_male'].mean()))"
   ]
  },
  {
   "cell_type": "markdown",
   "metadata": {},
   "source": [
    "### 2. How does this differ between low-, medium, and high-income countries? "
   ]
  },
  {
   "cell_type": "code",
   "execution_count": 22,
   "metadata": {},
   "outputs": [
    {
     "data": {
      "text/html": [
       "<div>\n",
       "<style scoped>\n",
       "    .dataframe tbody tr th:only-of-type {\n",
       "        vertical-align: middle;\n",
       "    }\n",
       "\n",
       "    .dataframe tbody tr th {\n",
       "        vertical-align: top;\n",
       "    }\n",
       "\n",
       "    .dataframe thead th {\n",
       "        text-align: right;\n",
       "    }\n",
       "</style>\n",
       "<table border=\"1\" class=\"dataframe\">\n",
       "  <thead>\n",
       "    <tr style=\"text-align: right;\">\n",
       "      <th></th>\n",
       "      <th>LE_both</th>\n",
       "      <th>LE_female</th>\n",
       "      <th>LE_male</th>\n",
       "    </tr>\n",
       "    <tr>\n",
       "      <th>Income Level</th>\n",
       "      <th></th>\n",
       "      <th></th>\n",
       "      <th></th>\n",
       "    </tr>\n",
       "  </thead>\n",
       "  <tbody>\n",
       "    <tr>\n",
       "      <th>H</th>\n",
       "      <td>78.480728</td>\n",
       "      <td>80.987466</td>\n",
       "      <td>75.962803</td>\n",
       "    </tr>\n",
       "    <tr>\n",
       "      <th>L</th>\n",
       "      <td>58.698972</td>\n",
       "      <td>60.228278</td>\n",
       "      <td>57.158226</td>\n",
       "    </tr>\n",
       "    <tr>\n",
       "      <th>LM</th>\n",
       "      <td>68.105386</td>\n",
       "      <td>70.588525</td>\n",
       "      <td>65.685597</td>\n",
       "    </tr>\n",
       "    <tr>\n",
       "      <th>UM</th>\n",
       "      <td>72.397281</td>\n",
       "      <td>75.451511</td>\n",
       "      <td>69.435045</td>\n",
       "    </tr>\n",
       "    <tr>\n",
       "      <th>Unknown</th>\n",
       "      <td>63.220833</td>\n",
       "      <td>65.033333</td>\n",
       "      <td>61.383333</td>\n",
       "    </tr>\n",
       "  </tbody>\n",
       "</table>\n",
       "</div>"
      ],
      "text/plain": [
       "                LE_both  LE_female    LE_male\n",
       "Income Level                                 \n",
       "H             78.480728  80.987466  75.962803\n",
       "L             58.698972  60.228278  57.158226\n",
       "LM            68.105386  70.588525  65.685597\n",
       "UM            72.397281  75.451511  69.435045\n",
       "Unknown       63.220833  65.033333  61.383333"
      ]
     },
     "execution_count": 22,
     "metadata": {},
     "output_type": "execute_result"
    }
   ],
   "source": [
    "datagrouped = data.groupby(['Income Level'])\n",
    "datagrouped['LE_both', 'LE_female', 'LE_male'].mean()"
   ]
  },
  {
   "cell_type": "markdown",
   "metadata": {},
   "source": [
    "### 3. What characteristics of countries are predictors for differences in life expectancies?"
   ]
  },
  {
   "cell_type": "code",
   "execution_count": 7,
   "metadata": {
    "scrolled": false
   },
   "outputs": [
    {
     "name": "stdout",
     "output_type": "stream",
     "text": [
      "                    Year   LE_both   LE_male  LE_female  GDP per Capita  \\\n",
      "Year            1.000000  0.190830  0.198597   0.180009        0.146334   \n",
      "LE_both         0.190830  1.000000  0.992158   0.993733        0.589619   \n",
      "LE_male         0.198597  0.992158  1.000000   0.972655        0.610144   \n",
      "LE_female       0.180009  0.993733  0.972655   1.000000        0.562067   \n",
      "GDP per Capita  0.146334  0.589619  0.610144   0.562067        1.000000   \n",
      "CHE_in_USD      0.147424  0.545385  0.560186   0.520355        0.915455   \n",
      "\n",
      "                CHE_in_USD  \n",
      "Year              0.147424  \n",
      "LE_both           0.545385  \n",
      "LE_male           0.560186  \n",
      "LE_female         0.520355  \n",
      "GDP per Capita    0.915455  \n",
      "CHE_in_USD        1.000000  \n"
     ]
    },
    {
     "data": {
      "image/png": "[encoded data removed]",
      "text/plain": [
       "<Figure size 432x288 with 2 Axes>"
      ]
     },
     "metadata": {
      "needs_background": "light"
     },
     "output_type": "display_data"
    }
   ],
   "source": [
    "#print(data['RnD_ex_pct'])\n",
    "#\n",
    "correlations = data.corr()\n",
    "print(correlations)\n",
    "# plot correlation matrix\n",
    "fig = plt.figure()\n",
    "ax = fig.add_subplot(111)\n",
    "cax = ax.matshow(correlations, vmin=-1, vmax=1)\n",
    "fig.colorbar(cax)\n",
    "ax.xaxis.set_tick_params(rotation=90)\n",
    "ax.set_xticklabels(data.columns)\n",
    "ax.set_yticklabels(data.columns)\n",
    "plt.show()"
   ]
  },
  {
   "cell_type": "markdown",
   "metadata": {},
   "source": [
    "As we can see this is not satisfactoring result, there is no strong correlation between GDP and life expectancy at birth. So let's look at a scatter plot and check if there is at least some linear relation between these variables."
   ]
  },
  {
   "cell_type": "code",
   "execution_count": 22,
   "metadata": {
    "scrolled": true
   },
   "outputs": [
    {
     "data": {
      "text/plain": [
       "<matplotlib.collections.PathCollection at 0x7f2efe8bb240>"
      ]
     },
     "execution_count": 22,
     "metadata": {},
     "output_type": "execute_result"
    },
    {
     "data": {
      "image/png": "[encoded data removed]",
      "text/plain": [
       "<Figure size 432x288 with 1 Axes>"
      ]
     },
     "metadata": {
      "needs_background": "light"
     },
     "output_type": "display_data"
    }
   ],
   "source": [
    "from pandas.plotting import scatter_matrix\n",
    "#scatter_matrix(data)\n",
    "#plt.show()\n",
    "# show simple scatter plot\n",
    "plt.scatter(data[\"LE_both\"], data[\"GDP per Capita\"])"
   ]
  },
  {
   "cell_type": "markdown",
   "metadata": {},
   "source": [
    "Next, we'll look at the correlation between 70 and older, maybe we can get better results."
   ]
  },
  {
   "cell_type": "code",
   "execution_count": 6,
   "metadata": {},
   "outputs": [
    {
     "name": "stdout",
     "output_type": "stream",
     "text": [
      "                    Year   LE_both   LE_male  LE_female  GDP per Capita  \\\n",
      "Year            1.000000  0.181409  0.173802   0.175834        0.137719   \n",
      "LE_both         0.181409  1.000000  0.962841   0.958262        0.731017   \n",
      "LE_male         0.173802  0.962841  1.000000   0.846894        0.727482   \n",
      "LE_female       0.175834  0.958262  0.846894   1.000000        0.679626   \n",
      "GDP per Capita  0.137719  0.731017  0.727482   0.679626        1.000000   \n",
      "CHE_in_USD      0.156246  0.747876  0.717125   0.714537        0.898826   \n",
      "\n",
      "                CHE_in_USD  \n",
      "Year              0.156246  \n",
      "LE_both           0.747876  \n",
      "LE_male           0.717125  \n",
      "LE_female         0.714537  \n",
      "GDP per Capita    0.898826  \n",
      "CHE_in_USD        1.000000  \n"
     ]
    },
    {
     "data": {
      "image/png": "[encoded data removed]",
      "text/plain": [
       "<Figure size 432x288 with 2 Axes>"
      ]
     },
     "metadata": {
      "needs_background": "light"
     },
     "output_type": "display_data"
    }
   ],
   "source": [
    "data_elderly = data[data.LE_both > 70]\n",
    "correlations_elderly = data_elderly.corr()\n",
    "print(correlations_elderly)\n",
    "# plot correlation matrix\n",
    "fig = plt.figure()\n",
    "ax = fig.add_subplot(111)\n",
    "cax = ax.matshow(correlations_elderly, vmin=-1, vmax=1)\n",
    "fig.colorbar(cax)\n",
    "ax.xaxis.set_tick_params(rotation=90)\n",
    "ax.set_xticklabels(data.columns)\n",
    "ax.set_yticklabels(data.columns)\n",
    "plt.show()"
   ]
  }
 ],
 "metadata": {
  "kernelspec": {
   "display_name": "Python 3",
   "language": "python",
   "name": "python3"
  },
  "language_info": {
   "codemirror_mode": {
    "name": "ipython",
    "version": 3
   },
   "file_extension": ".py",
   "mimetype": "text/x-python",
   "name": "python",
   "nbconvert_exporter": "python",
   "pygments_lexer": "ipython3",
   "version": "3.7.0"
  }
 },
 "nbformat": 4,
 "nbformat_minor": 2
}
