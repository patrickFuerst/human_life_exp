{
 "cells": [
  {
   "cell_type": "markdown",
   "metadata": {},
   "source": [
    "# Answers to questions\n",
    "What is the average human life expectancy in the world?<br /> \n",
    "How does this differ between low-, medium, and high-income countries? <br />\n",
    "What characteristics of countries are predictors for differences in life expectancies? <br />\n",
    "What characteristics are predictors for changes in life expectancy in a country over time?"
   ]
  },
  {
   "cell_type": "code",
   "execution_count": 49,
   "metadata": {
    "scrolled": true
   },
   "outputs": [
    {
     "name": "stdout",
     "output_type": "stream",
     "text": [
      "         Country  Year  LE_both  LE_male  LE_female Income Level          GDP  \\\n",
      "1864  Montenegro  2005     73.8     71.1       76.4      Unknown  3674.617924   \n",
      "1865  Montenegro  2004     73.7     71.1       76.3      Unknown  3380.165121   \n",
      "1866  Montenegro  2003     73.6     71.0       76.1      Unknown  2789.159065   \n",
      "1867  Montenegro  2002     73.5     70.9       76.0      Unknown  2106.635068   \n",
      "1868  Montenegro  2001     73.3     70.8       75.7      Unknown  1909.598702   \n",
      "1869  Montenegro  2000     73.1     70.5       75.6      Unknown  1627.072633   \n",
      "2425      Serbia  2005     73.4     70.8       76.1      Unknown  3528.131008   \n",
      "2426      Serbia  2004     73.4     70.7       76.1      Unknown  3331.228766   \n",
      "2427      Serbia  2003     73.2     70.6       75.8      Unknown  2832.490652   \n",
      "2428      Serbia  2002     73.1     70.4       75.7      Unknown  2149.909404   \n",
      "2429      Serbia  2001     73.1     70.5       75.8      Unknown  1634.875061   \n",
      "\n",
      "      Health_expenditure      RnD  \n",
      "1864               281.9  0.92443  \n",
      "1865               266.4  1.01872  \n",
      "1866               231.6  0.79774  \n",
      "1867               160.3      NaN  \n",
      "1868               143.5      NaN  \n",
      "1869               108.0      NaN  \n",
      "2425               307.6  0.41717  \n",
      "2426               274.4  0.30474  \n",
      "2427               230.1  0.52145  \n",
      "2428               173.3  0.67816  \n",
      "2429               111.0  0.32113  \n"
     ]
    }
   ],
   "source": [
    "import numpy as np\n",
    "import pandas as pd\n",
    "import matplotlib.pyplot as plt\n",
    "\n",
    "data_raw = pd.read_csv('data/processed/merged_data.csv')\n",
    "# rename columns for convenience\n",
    "data_raw.rename(index=str, columns={'Life expectancy at birth (years)  Both sexes': 'LE_both'}, inplace=True)\n",
    "data_raw.rename(index=str, columns={'Life expectancy at birth (years)  Male': 'LE_male'}, inplace=True)\n",
    "data_raw.rename(index=str, columns={'Life expectancy at birth (years)  Female': 'LE_female'}, inplace=True)\n",
    "data_raw.rename(columns={data_raw.columns[6]: 'GDP'}, inplace=True)\n",
    "# Current health expenditure (CHE) per capita in US$\n",
    "data_raw.rename(columns={data_raw.columns[7]: 'Health_expenditure'}, inplace=True)\n",
    "# Research and development expenditure\n",
    "data_raw.rename(columns={data_raw.columns[8]: 'RnD'}, inplace=True)\n",
    "#\n",
    "# basic cleansing\n",
    "# South Sudan didn't exist before 2011\n",
    "data_raw.drop(data_raw.loc[(data_raw['Country']=='South Sudan') & (data_raw['Year']<=2010)].index, inplace=True)\n",
    "#print(data_raw[data_raw.Country=='South Sudan'])\n",
    "# we simply drop incomplete lines\n",
    "#incomplete_data.dropna(subset=['wind_mSec'], inplace=True)\n",
    "# setting income level correctly if we have GDP values\n",
    "#TODO: fix issue with indexing when using .loc twice\n",
    "#print(data_raw[data_raw['Income Level']=='Unknown'])\n",
    "data_raw.loc[data_raw['GDP'] < 995, 'Income Level'] = 'L'\n",
    "#data_raw.loc[(data_raw['GDP'] > 995) & (data_raw['GDP'] <= 3895), 'Income Level'] = 'LM'\n",
    "#data_raw['Income Level'].where((data_raw['GDP'] > 995) & (data_raw['GDP'] < 3896), 'LM', data_raw['Income Level'])\n",
    "\n",
    "print(data_raw[data_raw['Income Level']=='Unknown'])\n",
    "# finally copy data_raw to data which represents the cleansed data\n",
    "data = data_raw.copy()"
   ]
  },
  {
   "cell_type": "markdown",
   "metadata": {},
   "source": [
    "### 1. What is the average human life expectancy in the world?"
   ]
  },
  {
   "cell_type": "code",
   "execution_count": 23,
   "metadata": {},
   "outputs": [
    {
     "name": "stdout",
     "output_type": "stream",
     "text": [
      "The average life expectancy for both sexes is: 69.20129032258059\n",
      "The average life expectancy for women is : 71.56838709677417\n",
      "The average life expectancy for men is : 66.86638709677416\n"
     ]
    }
   ],
   "source": [
    "print(\"The average life expectancy for both sexes is: {0}\".format(data['LE_both'].mean()))\n",
    "print(\"The average life expectancy for women is : {0}\".format(data['LE_female'].mean()))\n",
    "print(\"The average life expectancy for men is : {0}\".format(data['LE_male'].mean()))"
   ]
  },
  {
   "cell_type": "markdown",
   "metadata": {},
   "source": [
    "### 2. How does this differ between low-, medium, and high-income countries? "
   ]
  },
  {
   "cell_type": "code",
   "execution_count": 24,
   "metadata": {},
   "outputs": [
    {
     "data": {
      "text/html": [
       "<div>\n",
       "<style scoped>\n",
       "    .dataframe tbody tr th:only-of-type {\n",
       "        vertical-align: middle;\n",
       "    }\n",
       "\n",
       "    .dataframe tbody tr th {\n",
       "        vertical-align: top;\n",
       "    }\n",
       "\n",
       "    .dataframe thead th {\n",
       "        text-align: right;\n",
       "    }\n",
       "</style>\n",
       "<table border=\"1\" class=\"dataframe\">\n",
       "  <thead>\n",
       "    <tr style=\"text-align: right;\">\n",
       "      <th></th>\n",
       "      <th>LE_both</th>\n",
       "      <th>LE_female</th>\n",
       "      <th>LE_male</th>\n",
       "    </tr>\n",
       "    <tr>\n",
       "      <th>Income Level</th>\n",
       "      <th></th>\n",
       "      <th></th>\n",
       "      <th></th>\n",
       "    </tr>\n",
       "  </thead>\n",
       "  <tbody>\n",
       "    <tr>\n",
       "      <th>H</th>\n",
       "      <td>78.480728</td>\n",
       "      <td>80.987466</td>\n",
       "      <td>75.962803</td>\n",
       "    </tr>\n",
       "    <tr>\n",
       "      <th>L</th>\n",
       "      <td>58.698972</td>\n",
       "      <td>60.228278</td>\n",
       "      <td>57.158226</td>\n",
       "    </tr>\n",
       "    <tr>\n",
       "      <th>LM</th>\n",
       "      <td>68.105386</td>\n",
       "      <td>70.588525</td>\n",
       "      <td>65.685597</td>\n",
       "    </tr>\n",
       "    <tr>\n",
       "      <th>UM</th>\n",
       "      <td>72.397281</td>\n",
       "      <td>75.451511</td>\n",
       "      <td>69.435045</td>\n",
       "    </tr>\n",
       "    <tr>\n",
       "      <th>Unknown</th>\n",
       "      <td>72.215385</td>\n",
       "      <td>74.707692</td>\n",
       "      <td>69.700000</td>\n",
       "    </tr>\n",
       "  </tbody>\n",
       "</table>\n",
       "</div>"
      ],
      "text/plain": [
       "                LE_both  LE_female    LE_male\n",
       "Income Level                                 \n",
       "H             78.480728  80.987466  75.962803\n",
       "L             58.698972  60.228278  57.158226\n",
       "LM            68.105386  70.588525  65.685597\n",
       "UM            72.397281  75.451511  69.435045\n",
       "Unknown       72.215385  74.707692  69.700000"
      ]
     },
     "execution_count": 24,
     "metadata": {},
     "output_type": "execute_result"
    }
   ],
   "source": [
    "datagrouped = data.groupby(['Income Level'])\n",
    "datagrouped['LE_both', 'LE_female', 'LE_male'].mean()"
   ]
  },
  {
   "cell_type": "markdown",
   "metadata": {},
   "source": [
    "### 3. What characteristics of countries are predictors for differences in life expectancies?"
   ]
  },
  {
   "cell_type": "code",
   "execution_count": 50,
   "metadata": {},
   "outputs": [
    {
     "name": "stdout",
     "output_type": "stream",
     "text": [
      "<bound method NDFrame.head of           Country  Year  LE_both  LE_male  LE_female Income Level  \\\n",
      "0     Afghanistan  2016     62.7     61.0       64.5            L   \n",
      "1     Afghanistan  2015     63.2     61.8       64.7            L   \n",
      "2     Afghanistan  2014     63.0     61.7       64.4            L   \n",
      "3     Afghanistan  2013     62.7     61.5       64.1            L   \n",
      "4     Afghanistan  2012     62.2     60.9       63.6            L   \n",
      "5     Afghanistan  2011     61.7     60.5       63.1            L   \n",
      "6     Afghanistan  2010     61.2     59.9       62.5            L   \n",
      "7     Afghanistan  2009     60.7     59.5       62.1            L   \n",
      "8     Afghanistan  2008     60.2     59.0       61.6            L   \n",
      "9     Afghanistan  2007     59.6     58.4       61.0            L   \n",
      "10    Afghanistan  2006     59.2     58.0       60.5            L   \n",
      "11    Afghanistan  2005     58.9     57.8       60.1            L   \n",
      "12    Afghanistan  2004     58.4     57.4       59.6            L   \n",
      "13    Afghanistan  2003     58.0     56.9       59.1            L   \n",
      "14    Afghanistan  2002     57.4     56.5       58.5            L   \n",
      "15    Afghanistan  2001     56.5     55.3       57.9            L   \n",
      "16    Afghanistan  2000     55.9     54.6       57.3            L   \n",
      "17        Albania  2016     76.4     74.3       78.6           UM   \n",
      "18        Albania  2015     76.1     74.2       78.2           UM   \n",
      "19        Albania  2014     76.1     74.0       78.5           UM   \n",
      "20        Albania  2013     75.7     73.6       78.1           UM   \n",
      "21        Albania  2012     75.2     73.0       77.7           UM   \n",
      "22        Albania  2011     75.1     72.6       78.2           LM   \n",
      "23        Albania  2010     74.7     72.5       77.0           UM   \n",
      "24        Albania  2009     74.4     72.3       76.7           UM   \n",
      "25        Albania  2008     74.2     72.1       76.5           LM   \n",
      "26        Albania  2007     74.1     71.9       76.4           LM   \n",
      "27        Albania  2006     73.9     71.8       76.2           LM   \n",
      "28        Albania  2005     73.5     71.6       75.6           LM   \n",
      "29        Albania  2004     73.3     71.0       75.8           LM   \n",
      "...           ...   ...      ...      ...        ...          ...   \n",
      "3081       Zambia  2012     59.6     57.7       61.5           LM   \n",
      "3082       Zambia  2011     58.6     56.7       60.5           LM   \n",
      "3083       Zambia  2010     57.5     55.7       59.3           LM   \n",
      "3084       Zambia  2009     56.0     54.3       57.6            L   \n",
      "3085       Zambia  2008     54.0     52.7       55.3            L   \n",
      "3086       Zambia  2007     51.6     50.5       52.6            L   \n",
      "3087       Zambia  2006     50.1     49.1       51.0            L   \n",
      "3088       Zambia  2005     48.8     47.9       49.7            L   \n",
      "3089       Zambia  2004     47.6     46.7       48.4            L   \n",
      "3090       Zambia  2003     46.4     45.5       47.2            L   \n",
      "3091       Zambia  2002     45.7     44.8       46.6            L   \n",
      "3092       Zambia  2001     45.0     44.0       46.1            L   \n",
      "3093       Zambia  2000     44.4     43.2       45.6            L   \n",
      "3094     Zimbabwe  2016     61.4     59.6       63.1            L   \n",
      "3095     Zimbabwe  2015     60.8     59.0       62.4            L   \n",
      "3096     Zimbabwe  2014     59.9     58.2       61.5            L   \n",
      "3097     Zimbabwe  2013     58.6     56.4       60.7            L   \n",
      "3098     Zimbabwe  2012     57.3     55.0       59.5            L   \n",
      "3099     Zimbabwe  2011     55.5     53.6       57.3            L   \n",
      "3100     Zimbabwe  2010     52.9     51.5       54.2            L   \n",
      "3101     Zimbabwe  2009     50.6     49.4       51.8            L   \n",
      "3102     Zimbabwe  2008     48.9     47.6       50.0            L   \n",
      "3103     Zimbabwe  2007     47.4     46.2       48.6            L   \n",
      "3104     Zimbabwe  2006     46.3     45.2       47.4            L   \n",
      "3105     Zimbabwe  2005     45.5     44.5       46.5            L   \n",
      "3106     Zimbabwe  2004     45.0     44.1       45.9            L   \n",
      "3107     Zimbabwe  2003     44.9     44.0       45.9            L   \n",
      "3108     Zimbabwe  2002     45.0     44.0       46.0            L   \n",
      "3109     Zimbabwe  2001     45.4     44.3       46.5            L   \n",
      "3110     Zimbabwe  2000     45.9     44.6       47.3            L   \n",
      "\n",
      "              GDP  Health_expenditure                    RnD  \n",
      "0      561.778746                 NaN                    NaN  \n",
      "1      569.577923                60.1                    NaN  \n",
      "2      629.345250                60.1                    NaN  \n",
      "3      638.612543                56.0                    NaN  \n",
      "4      669.009051                52.2                    NaN  \n",
      "5      603.537023                51.6                    NaN  \n",
      "6      553.300289                45.6                    NaN  \n",
      "7      445.893298                42.3                    NaN  \n",
      "8      373.361116                38.7                    NaN  \n",
      "9      369.835796                31.8                    NaN  \n",
      "10     272.563077                28.4                    NaN  \n",
      "11     250.294130                24.4                    NaN  \n",
      "12     219.141353                20.9                    NaN  \n",
      "13     198.728544                17.5                    NaN  \n",
      "14     187.845095                16.2                    NaN  \n",
      "15     117.409691                 NaN                    NaN  \n",
      "16            NaN                 NaN                    NaN  \n",
      "17    4131.872341                 NaN                    NaN  \n",
      "18    3952.830781               265.9                    NaN  \n",
      "19    4578.666728               314.9                    NaN  \n",
      "20    4413.081697               277.7                    NaN  \n",
      "21    4247.614308               247.3                    NaN  \n",
      "22    4437.178068               248.2                    NaN  \n",
      "23    4094.358832               204.2                    NaN  \n",
      "24    4114.136545               207.4                    NaN  \n",
      "25    4370.539647               240.4    0.15420999999999999  \n",
      "26    3603.013685               216.4                0.08735  \n",
      "27    3005.012903               172.8                    NaN  \n",
      "28    2709.142931               165.9                    NaN  \n",
      "29    2416.588235               152.0                    NaN  \n",
      "...           ...                 ...                    ...  \n",
      "3081  1734.930612                81.6                    NaN  \n",
      "3082  1644.619672                79.3                    NaN  \n",
      "3083  1463.213573                67.4                    NaN  \n",
      "3084  1139.110233                49.0                    NaN  \n",
      "3085  1369.068249                55.8                0.27819  \n",
      "3086  1104.587985                42.4                    NaN  \n",
      "3087  1030.154199                50.8                    NaN  \n",
      "3088   691.317816                46.3                0.02493  \n",
      "3089   530.277222                37.4                0.02223  \n",
      "3090   429.158343                30.9                0.00847  \n",
      "3091   377.130524                25.6  0.0054399999999999995  \n",
      "3092   378.273624                24.8                    NaN  \n",
      "3093   341.905562                24.5                    NaN  \n",
      "3094  1029.076649                 NaN                    NaN  \n",
      "3095  1033.415841                94.3                    NaN  \n",
      "3096  1031.104614                81.9                    NaN  \n",
      "3097  1026.388292                68.8                    NaN  \n",
      "3098   968.163875                70.0                    NaN  \n",
      "3099   840.949877                71.1                    NaN  \n",
      "3100   719.979516                77.6                    NaN  \n",
      "3101   624.272242                 NaN                    NaN  \n",
      "3102   325.678570                 NaN                    NaN  \n",
      "3103   396.998217                 NaN                    NaN  \n",
      "3104   414.796232                 NaN                    NaN  \n",
      "3105   444.760508                 NaN                    NaN  \n",
      "3106   454.360665                 NaN                    NaN  \n",
      "3107   453.351155                 NaN                    NaN  \n",
      "3108   507.348003                 NaN                    NaN  \n",
      "3109   548.058731                 NaN                    NaN  \n",
      "3110   547.358878                 NaN                         \n",
      "\n",
      "[3100 rows x 9 columns]>\n"
     ]
    },
    {
     "data": {
      "text/plain": [
       "\"\\npca = PCA(n_components=5)\\npca.fit(data)\\n#pca.components_\\ncolumns = ['pca_%i' % i for i in range(5)]\\ndf_pca = DataFrame(pca.transform(data), columns=columns, index=data.index)\\ndf_pca.head()\\n\""
      ]
     },
     "execution_count": 50,
     "metadata": {},
     "output_type": "execute_result"
    }
   ],
   "source": [
    "from sklearn.decomposition import PCA\n",
    "print(data.head)\n",
    "\n",
    "#print(data.columns)\n",
    "'''\n",
    "pca = PCA(n_components=5)\n",
    "pca.fit(data)\n",
    "#pca.components_\n",
    "columns = ['pca_%i' % i for i in range(5)]\n",
    "df_pca = DataFrame(pca.transform(data), columns=columns, index=data.index)\n",
    "df_pca.head()\n",
    "'''"
   ]
  },
  {
   "cell_type": "code",
   "execution_count": 101,
   "metadata": {
    "scrolled": false
   },
   "outputs": [
    {
     "name": "stdout",
     "output_type": "stream",
     "text": [
      "                        Year   LE_both   LE_male  LE_female       GDP  \\\n",
      "Year                1.000000  0.190830  0.198597   0.180009  0.146334   \n",
      "LE_both             0.190830  1.000000  0.992158   0.993733  0.589619   \n",
      "LE_male             0.198597  0.992158  1.000000   0.972655  0.610144   \n",
      "LE_female           0.180009  0.993733  0.972655   1.000000  0.562067   \n",
      "GDP                 0.146334  0.589619  0.610144   0.562067  1.000000   \n",
      "Health_expenditure  0.147424  0.545385  0.560186   0.520355  0.915455   \n",
      "\n",
      "                    Health_expenditure  \n",
      "Year                          0.147424  \n",
      "LE_both                       0.545385  \n",
      "LE_male                       0.560186  \n",
      "LE_female                     0.520355  \n",
      "GDP                           0.915455  \n",
      "Health_expenditure            1.000000  \n"
     ]
    },
    {
     "data": {
      "image/png": "[encoded data removed]",
      "text/plain": [
       "<Figure size 432x288 with 2 Axes>"
      ]
     },
     "metadata": {
      "needs_background": "light"
     },
     "output_type": "display_data"
    }
   ],
   "source": [
    "correlations = data.corr()\n",
    "print(correlations)\n",
    "# plot correlation matrix\n",
    "fig = plt.figure()\n",
    "ax = fig.add_subplot(111)\n",
    "cax = ax.matshow(correlations, vmin=-1, vmax=1)\n",
    "fig.colorbar(cax)\n",
    "ax.xaxis.set_tick_params(rotation=90)\n",
    "ax.set_xticklabels(data.columns)\n",
    "ax.set_yticklabels(data.columns)\n",
    "plt.show()"
   ]
  },
  {
   "cell_type": "markdown",
   "metadata": {},
   "source": [
    "As we can see this is not satisfactoring result, there is no strong correlation between GDP and life expectancy at birth. So let's look at a scatter plot and check if there is at least some linear relation between these variables."
   ]
  },
  {
   "cell_type": "code",
   "execution_count": 7,
   "metadata": {
    "scrolled": true
   },
   "outputs": [
    {
     "data": {
      "text/plain": [
       "<matplotlib.collections.PathCollection at 0x7f3d5204ff98>"
      ]
     },
     "execution_count": 7,
     "metadata": {},
     "output_type": "execute_result"
    },
    {
     "data": {
      "image/png": "[encoded data removed]",
      "text/plain": [
       "<Figure size 432x288 with 1 Axes>"
      ]
     },
     "metadata": {
      "needs_background": "light"
     },
     "output_type": "display_data"
    }
   ],
   "source": [
    "from pandas.plotting import scatter_matrix\n",
    "#scatter_matrix(data)\n",
    "#plt.show()\n",
    "# show simple scatter plot\n",
    "plt.ylabel('GDP')\n",
    "plt.xlabel('Life expectancy at birth, both sexes')\n",
    "plt.scatter(data[\"LE_both\"], data[\"GDP\"])"
   ]
  },
  {
   "cell_type": "markdown",
   "metadata": {},
   "source": [
    "Next, we'll look at the correlation between 70 and older, maybe we can get better results."
   ]
  },
  {
   "cell_type": "code",
   "execution_count": 103,
   "metadata": {},
   "outputs": [
    {
     "name": "stdout",
     "output_type": "stream",
     "text": [
      "                        Year   LE_both   LE_male  LE_female       GDP  \\\n",
      "Year                1.000000  0.181409  0.173802   0.175834  0.137719   \n",
      "LE_both             0.181409  1.000000  0.962841   0.958262  0.731017   \n",
      "LE_male             0.173802  0.962841  1.000000   0.846894  0.727482   \n",
      "LE_female           0.175834  0.958262  0.846894   1.000000  0.679626   \n",
      "GDP                 0.137719  0.731017  0.727482   0.679626  1.000000   \n",
      "Health_expenditure  0.156246  0.747876  0.717125   0.714537  0.898826   \n",
      "\n",
      "                    Health_expenditure  \n",
      "Year                          0.156246  \n",
      "LE_both                       0.747876  \n",
      "LE_male                       0.717125  \n",
      "LE_female                     0.714537  \n",
      "GDP                           0.898826  \n",
      "Health_expenditure            1.000000  \n"
     ]
    },
    {
     "data": {
      "image/png": "[encoded data removed]",
      "text/plain": [
       "<Figure size 432x288 with 2 Axes>"
      ]
     },
     "metadata": {
      "needs_background": "light"
     },
     "output_type": "display_data"
    }
   ],
   "source": [
    "data_elderly = data[data.LE_both > 70]\n",
    "correlations_elderly = data_elderly.corr()\n",
    "print(correlations_elderly)\n",
    "# plot correlation matrix\n",
    "fig = plt.figure()\n",
    "ax = fig.add_subplot(111)\n",
    "cax = ax.matshow(correlations_elderly, vmin=-1, vmax=1)\n",
    "fig.colorbar(cax)\n",
    "ax.xaxis.set_tick_params(rotation=90)\n",
    "ax.set_xticklabels(data.columns)\n",
    "ax.set_yticklabels(data.columns)\n",
    "plt.show()"
   ]
  }
 ],
 "metadata": {
  "kernelspec": {
   "display_name": "Python 3",
   "language": "python",
   "name": "python3"
  },
  "language_info": {
   "codemirror_mode": {
    "name": "ipython",
    "version": 3
   },
   "file_extension": ".py",
   "mimetype": "text/x-python",
   "name": "python",
   "nbconvert_exporter": "python",
   "pygments_lexer": "ipython3",
   "version": "3.7.0"
  }
 },
 "nbformat": 4,
 "nbformat_minor": 2
}
