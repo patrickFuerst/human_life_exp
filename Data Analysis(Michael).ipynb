{
 "cells": [
  {
   "cell_type": "markdown",
   "metadata": {},
   "source": [
    "# Answers to questions\n",
    "What is the average human life expectancy in the world?<br /> \n",
    "How does this differ between low-, medium, and high-income countries? <br />\n",
    "What characteristics of countries are predictors for differences in life expectancies? <br />\n",
    "What characteristics are predictors for changes in life expectancy in a country over time?"
   ]
  },
  {
   "cell_type": "code",
   "execution_count": 37,
   "metadata": {
    "scrolled": true
   },
   "outputs": [
    {
     "name": "stdout",
     "output_type": "stream",
     "text": [
      "0       1.0\n",
      "1       1.0\n",
      "2       1.0\n",
      "3       1.0\n",
      "4       1.0\n",
      "5       1.0\n",
      "6       1.0\n",
      "7       1.0\n",
      "8       1.0\n",
      "9       1.0\n",
      "10      1.0\n",
      "11      1.0\n",
      "12      1.0\n",
      "13      1.0\n",
      "14      1.0\n",
      "15      1.0\n",
      "16      1.0\n",
      "17      3.0\n",
      "18      3.0\n",
      "19      3.0\n",
      "20      3.0\n",
      "21      3.0\n",
      "22      2.0\n",
      "23      3.0\n",
      "24      3.0\n",
      "25      2.0\n",
      "26      2.0\n",
      "27      2.0\n",
      "28      2.0\n",
      "29      2.0\n",
      "       ... \n",
      "3081    2.0\n",
      "3082    2.0\n",
      "3083    2.0\n",
      "3084    1.0\n",
      "3085    1.0\n",
      "3086    1.0\n",
      "3087    1.0\n",
      "3088    1.0\n",
      "3089    1.0\n",
      "3090    1.0\n",
      "3091    1.0\n",
      "3092    1.0\n",
      "3093    1.0\n",
      "3094    1.0\n",
      "3095    1.0\n",
      "3096    1.0\n",
      "3097    1.0\n",
      "3098    1.0\n",
      "3099    1.0\n",
      "3100    1.0\n",
      "3101    1.0\n",
      "3102    1.0\n",
      "3103    1.0\n",
      "3104    1.0\n",
      "3105    1.0\n",
      "3106    1.0\n",
      "3107    1.0\n",
      "3108    1.0\n",
      "3109    1.0\n",
      "3110    1.0\n",
      "Name: Income Level, Length: 3083, dtype: float64\n"
     ]
    },
    {
     "name": "stderr",
     "output_type": "stream",
     "text": [
      "/usr/share/anaconda3/lib/python3.7/site-packages/pandas/core/indexing.py:543: SettingWithCopyWarning: \n",
      "A value is trying to be set on a copy of a slice from a DataFrame.\n",
      "Try using .loc[row_indexer,col_indexer] = value instead\n",
      "\n",
      "See the caveats in the documentation: http://pandas.pydata.org/pandas-docs/stable/indexing.html#indexing-view-versus-copy\n",
      "  self.obj[item] = s\n"
     ]
    }
   ],
   "source": [
    "import numpy as np\n",
    "import pandas as pd\n",
    "import matplotlib.pyplot as plt\n",
    "\n",
    "data_raw = pd.read_csv('data/processed/merged_data.csv')\n",
    "# rename columns for convenience\n",
    "data_raw.rename(index=str, columns={'Life expectancy at birth (years)  Both sexes': 'LE_both'}, inplace=True)\n",
    "data_raw.rename(index=str, columns={'Life expectancy at birth (years)  Male': 'LE_male'}, inplace=True)\n",
    "data_raw.rename(index=str, columns={'Life expectancy at birth (years)  Female': 'LE_female'}, inplace=True)\n",
    "data_raw.rename(columns={data_raw.columns[6]: 'GDP'}, inplace=True)\n",
    "# Current health expenditure (CHE) per capita in US$\n",
    "data_raw.rename(columns={data_raw.columns[7]: 'Health_expenditure'}, inplace=True)\n",
    "# Research and development expenditure\n",
    "data_raw.rename(columns={data_raw.columns[8]: 'RnD'}, inplace=True)\n",
    "#\n",
    "# basic cleansing\n",
    "#\n",
    "# checking and preparing data types of raw data\n",
    "# as we have categorial data in Income level, we must set the correct data type\n",
    "data_raw['Income Level'] = data_raw['Income Level'].astype('category')\n",
    "# assign value to each category value - Index(['H', 'L', 'LM', 'UM', 'Unknown'], dtype='object')\n",
    "data_raw['Income Level'].cat.categories = [4,1,2,3,0]\n",
    "data_raw['Income Level'].astype(float)\n",
    "#data_raw['RnD'].astype(float)\n",
    "\n",
    "# South Sudan didn't exist before 2011\n",
    "data_raw.drop(data_raw.loc[(data_raw['Country'] == 'South Sudan') & (data_raw['Year'] <= 2010)].index, inplace=True)\n",
    "\n",
    "#\n",
    "# setting income level correctly if we have GDP values\n",
    "#\n",
    "data_raw['Income Level'] = data_raw['Income Level'].replace(np.NaN, 'Unknown', inplace=False, regex=True)\n",
    "\n",
    "incomplete_data = (data_raw[data_raw['Income Level'] == 'Unknown'])\n",
    "incomplete_data.loc[:, 'Income Level'] = incomplete_data['Income Level'].mask(incomplete_data.GDP < 995, 'L')\n",
    "incomplete_data.loc[:, 'Income Level'] = incomplete_data['Income Level'].mask(incomplete_data.GDP > 995, 'LM')\n",
    "\n",
    "# we simply drop the remaining incomplete lines\n",
    "data_raw['Income Level'] = data_raw['Income Level'].replace('Unknown', np.NaN, inplace=False, regex=True)\n",
    "data_raw.dropna(subset=['Income Level'], inplace=True)\n",
    "\n",
    "# finally copy data_raw to data which represents the cleansed data\n",
    "data = data_raw.copy()"
   ]
  },
  {
   "cell_type": "markdown",
   "metadata": {},
   "source": [
    "Side step checking correlation between GDP and income level \n",
    "show strong correlation between GDP and GNI before correction of Income Level \"Unknown\" based on GDP data\n",
    "greater than 0.7 means strong positive correlation"
   ]
  },
  {
   "cell_type": "code",
   "execution_count": 35,
   "metadata": {
    "scrolled": true
   },
   "outputs": [
    {
     "name": "stdout",
     "output_type": "stream",
     "text": [
      "                        Year   LE_both   LE_male  LE_female  Income Level  \\\n",
      "Year                1.000000  0.187285  0.195123   0.176401      0.168288   \n",
      "LE_both             0.187285  1.000000  0.992070   0.993657      0.763546   \n",
      "LE_male             0.195123  0.992070  1.000000   0.972337      0.758186   \n",
      "LE_female           0.176401  0.993657  0.972337   1.000000      0.758519   \n",
      "Income Level        0.168288  0.763546  0.758186   0.758519      1.000000   \n",
      "GDP                 0.146966  0.587497  0.607945   0.560007      0.712903   \n",
      "Health_expenditure  0.147828  0.544997  0.559859   0.519897      0.623381   \n",
      "\n",
      "                         GDP  Health_expenditure  \n",
      "Year                0.146966            0.147828  \n",
      "LE_both             0.587497            0.544997  \n",
      "LE_male             0.607945            0.559859  \n",
      "LE_female           0.560007            0.519897  \n",
      "Income Level        0.712903            0.623381  \n",
      "GDP                 1.000000            0.915431  \n",
      "Health_expenditure  0.915431            1.000000  \n"
     ]
    }
   ],
   "source": [
    "correlations = data_raw.corr()\n",
    "print(correlations)"
   ]
  },
  {
   "cell_type": "markdown",
   "metadata": {},
   "source": [
    "### 1. What is the average human life expectancy in the world?"
   ]
  },
  {
   "cell_type": "code",
   "execution_count": 31,
   "metadata": {},
   "outputs": [
    {
     "name": "stdout",
     "output_type": "stream",
     "text": [
      "The average life expectancy for both sexes is: 69.20586319218235\n",
      "The average life expectancy for women is : 71.57491856677521\n",
      "The average life expectancy for men is : 66.86951140065143\n"
     ]
    }
   ],
   "source": [
    "print(\"The average life expectancy for both sexes is: {0}\".format(data['LE_both'].mean()))\n",
    "print(\"The average life expectancy for women is : {0}\".format(data['LE_female'].mean()))\n",
    "print(\"The average life expectancy for men is : {0}\".format(data['LE_male'].mean()))"
   ]
  },
  {
   "cell_type": "markdown",
   "metadata": {},
   "source": [
    "### 2. How does this differ between low-, medium, and high-income countries? "
   ]
  },
  {
   "cell_type": "code",
   "execution_count": 47,
   "metadata": {},
   "outputs": [
    {
     "data": {
      "text/html": [
       "<div>\n",
       "<style scoped>\n",
       "    .dataframe tbody tr th:only-of-type {\n",
       "        vertical-align: middle;\n",
       "    }\n",
       "\n",
       "    .dataframe tbody tr th {\n",
       "        vertical-align: top;\n",
       "    }\n",
       "\n",
       "    .dataframe thead th {\n",
       "        text-align: right;\n",
       "    }\n",
       "</style>\n",
       "<table border=\"1\" class=\"dataframe\">\n",
       "  <thead>\n",
       "    <tr style=\"text-align: right;\">\n",
       "      <th></th>\n",
       "      <th>LE_both</th>\n",
       "      <th>LE_female</th>\n",
       "      <th>LE_male</th>\n",
       "    </tr>\n",
       "    <tr>\n",
       "      <th>Income Level</th>\n",
       "      <th></th>\n",
       "      <th></th>\n",
       "      <th></th>\n",
       "    </tr>\n",
       "  </thead>\n",
       "  <tbody>\n",
       "    <tr>\n",
       "      <th>H</th>\n",
       "      <td>78.480728</td>\n",
       "      <td>80.987466</td>\n",
       "      <td>75.962803</td>\n",
       "    </tr>\n",
       "    <tr>\n",
       "      <th>UM</th>\n",
       "      <td>72.419625</td>\n",
       "      <td>75.444300</td>\n",
       "      <td>69.486147</td>\n",
       "    </tr>\n",
       "    <tr>\n",
       "      <th>LM</th>\n",
       "      <td>68.115169</td>\n",
       "      <td>70.597200</td>\n",
       "      <td>65.696616</td>\n",
       "    </tr>\n",
       "    <tr>\n",
       "      <th>L</th>\n",
       "      <td>58.698972</td>\n",
       "      <td>60.228278</td>\n",
       "      <td>57.158226</td>\n",
       "    </tr>\n",
       "  </tbody>\n",
       "</table>\n",
       "</div>"
      ],
      "text/plain": [
       "                LE_both  LE_female    LE_male\n",
       "Income Level                                 \n",
       "H             78.480728  80.987466  75.962803\n",
       "UM            72.419625  75.444300  69.486147\n",
       "LM            68.115169  70.597200  65.696616\n",
       "L             58.698972  60.228278  57.158226"
      ]
     },
     "execution_count": 47,
     "metadata": {},
     "output_type": "execute_result"
    }
   ],
   "source": [
    "datagrouped = data.groupby(['Income Level'])\n",
    "datagrouped['LE_both', 'LE_female', 'LE_male'].mean().sort_values(['LE_both'],ascending=False)"
   ]
  },
  {
   "cell_type": "markdown",
   "metadata": {},
   "source": [
    "### 3. What characteristics of countries are predictors for differences in life expectancies?"
   ]
  },
  {
   "cell_type": "code",
   "execution_count": 33,
   "metadata": {},
   "outputs": [
    {
     "name": "stdout",
     "output_type": "stream",
     "text": [
      "<bound method NDFrame.head of           Country  Year  LE_both  LE_male  LE_female Income Level  \\\n",
      "0     Afghanistan  2016     62.7     61.0       64.5            L   \n",
      "1     Afghanistan  2015     63.2     61.8       64.7            L   \n",
      "2     Afghanistan  2014     63.0     61.7       64.4            L   \n",
      "3     Afghanistan  2013     62.7     61.5       64.1            L   \n",
      "4     Afghanistan  2012     62.2     60.9       63.6            L   \n",
      "5     Afghanistan  2011     61.7     60.5       63.1            L   \n",
      "6     Afghanistan  2010     61.2     59.9       62.5            L   \n",
      "7     Afghanistan  2009     60.7     59.5       62.1            L   \n",
      "8     Afghanistan  2008     60.2     59.0       61.6            L   \n",
      "9     Afghanistan  2007     59.6     58.4       61.0            L   \n",
      "10    Afghanistan  2006     59.2     58.0       60.5            L   \n",
      "11    Afghanistan  2005     58.9     57.8       60.1            L   \n",
      "12    Afghanistan  2004     58.4     57.4       59.6            L   \n",
      "13    Afghanistan  2003     58.0     56.9       59.1            L   \n",
      "14    Afghanistan  2002     57.4     56.5       58.5            L   \n",
      "15    Afghanistan  2001     56.5     55.3       57.9            L   \n",
      "16    Afghanistan  2000     55.9     54.6       57.3            L   \n",
      "17        Albania  2016     76.4     74.3       78.6           UM   \n",
      "18        Albania  2015     76.1     74.2       78.2           UM   \n",
      "19        Albania  2014     76.1     74.0       78.5           UM   \n",
      "20        Albania  2013     75.7     73.6       78.1           UM   \n",
      "21        Albania  2012     75.2     73.0       77.7           UM   \n",
      "22        Albania  2011     75.1     72.6       78.2           LM   \n",
      "23        Albania  2010     74.7     72.5       77.0           UM   \n",
      "24        Albania  2009     74.4     72.3       76.7           UM   \n",
      "25        Albania  2008     74.2     72.1       76.5           LM   \n",
      "26        Albania  2007     74.1     71.9       76.4           LM   \n",
      "27        Albania  2006     73.9     71.8       76.2           LM   \n",
      "28        Albania  2005     73.5     71.6       75.6           LM   \n",
      "29        Albania  2004     73.3     71.0       75.8           LM   \n",
      "...           ...   ...      ...      ...        ...          ...   \n",
      "3081       Zambia  2012     59.6     57.7       61.5           LM   \n",
      "3082       Zambia  2011     58.6     56.7       60.5           LM   \n",
      "3083       Zambia  2010     57.5     55.7       59.3           LM   \n",
      "3084       Zambia  2009     56.0     54.3       57.6            L   \n",
      "3085       Zambia  2008     54.0     52.7       55.3            L   \n",
      "3086       Zambia  2007     51.6     50.5       52.6            L   \n",
      "3087       Zambia  2006     50.1     49.1       51.0            L   \n",
      "3088       Zambia  2005     48.8     47.9       49.7            L   \n",
      "3089       Zambia  2004     47.6     46.7       48.4            L   \n",
      "3090       Zambia  2003     46.4     45.5       47.2            L   \n",
      "3091       Zambia  2002     45.7     44.8       46.6            L   \n",
      "3092       Zambia  2001     45.0     44.0       46.1            L   \n",
      "3093       Zambia  2000     44.4     43.2       45.6            L   \n",
      "3094     Zimbabwe  2016     61.4     59.6       63.1            L   \n",
      "3095     Zimbabwe  2015     60.8     59.0       62.4            L   \n",
      "3096     Zimbabwe  2014     59.9     58.2       61.5            L   \n",
      "3097     Zimbabwe  2013     58.6     56.4       60.7            L   \n",
      "3098     Zimbabwe  2012     57.3     55.0       59.5            L   \n",
      "3099     Zimbabwe  2011     55.5     53.6       57.3            L   \n",
      "3100     Zimbabwe  2010     52.9     51.5       54.2            L   \n",
      "3101     Zimbabwe  2009     50.6     49.4       51.8            L   \n",
      "3102     Zimbabwe  2008     48.9     47.6       50.0            L   \n",
      "3103     Zimbabwe  2007     47.4     46.2       48.6            L   \n",
      "3104     Zimbabwe  2006     46.3     45.2       47.4            L   \n",
      "3105     Zimbabwe  2005     45.5     44.5       46.5            L   \n",
      "3106     Zimbabwe  2004     45.0     44.1       45.9            L   \n",
      "3107     Zimbabwe  2003     44.9     44.0       45.9            L   \n",
      "3108     Zimbabwe  2002     45.0     44.0       46.0            L   \n",
      "3109     Zimbabwe  2001     45.4     44.3       46.5            L   \n",
      "3110     Zimbabwe  2000     45.9     44.6       47.3            L   \n",
      "\n",
      "              GDP  Health_expenditure                    RnD  \n",
      "0      561.778746                 NaN                    NaN  \n",
      "1      569.577923                60.1                    NaN  \n",
      "2      629.345250                60.1                    NaN  \n",
      "3      638.612543                56.0                    NaN  \n",
      "4      669.009051                52.2                    NaN  \n",
      "5      603.537023                51.6                    NaN  \n",
      "6      553.300289                45.6                    NaN  \n",
      "7      445.893298                42.3                    NaN  \n",
      "8      373.361116                38.7                    NaN  \n",
      "9      369.835796                31.8                    NaN  \n",
      "10     272.563077                28.4                    NaN  \n",
      "11     250.294130                24.4                    NaN  \n",
      "12     219.141353                20.9                    NaN  \n",
      "13     198.728544                17.5                    NaN  \n",
      "14     187.845095                16.2                    NaN  \n",
      "15     117.409691                 NaN                    NaN  \n",
      "16            NaN                 NaN                    NaN  \n",
      "17    4131.872341                 NaN                    NaN  \n",
      "18    3952.830781               265.9                    NaN  \n",
      "19    4578.666728               314.9                    NaN  \n",
      "20    4413.081697               277.7                    NaN  \n",
      "21    4247.614308               247.3                    NaN  \n",
      "22    4437.178068               248.2                    NaN  \n",
      "23    4094.358832               204.2                    NaN  \n",
      "24    4114.136545               207.4                    NaN  \n",
      "25    4370.539647               240.4    0.15420999999999999  \n",
      "26    3603.013685               216.4                0.08735  \n",
      "27    3005.012903               172.8                    NaN  \n",
      "28    2709.142931               165.9                    NaN  \n",
      "29    2416.588235               152.0                    NaN  \n",
      "...           ...                 ...                    ...  \n",
      "3081  1734.930612                81.6                    NaN  \n",
      "3082  1644.619672                79.3                    NaN  \n",
      "3083  1463.213573                67.4                    NaN  \n",
      "3084  1139.110233                49.0                    NaN  \n",
      "3085  1369.068249                55.8                0.27819  \n",
      "3086  1104.587985                42.4                    NaN  \n",
      "3087  1030.154199                50.8                    NaN  \n",
      "3088   691.317816                46.3                0.02493  \n",
      "3089   530.277222                37.4                0.02223  \n",
      "3090   429.158343                30.9                0.00847  \n",
      "3091   377.130524                25.6  0.0054399999999999995  \n",
      "3092   378.273624                24.8                    NaN  \n",
      "3093   341.905562                24.5                    NaN  \n",
      "3094  1029.076649                 NaN                    NaN  \n",
      "3095  1033.415841                94.3                    NaN  \n",
      "3096  1031.104614                81.9                    NaN  \n",
      "3097  1026.388292                68.8                    NaN  \n",
      "3098   968.163875                70.0                    NaN  \n",
      "3099   840.949877                71.1                    NaN  \n",
      "3100   719.979516                77.6                    NaN  \n",
      "3101   624.272242                 NaN                    NaN  \n",
      "3102   325.678570                 NaN                    NaN  \n",
      "3103   396.998217                 NaN                    NaN  \n",
      "3104   414.796232                 NaN                    NaN  \n",
      "3105   444.760508                 NaN                    NaN  \n",
      "3106   454.360665                 NaN                    NaN  \n",
      "3107   453.351155                 NaN                    NaN  \n",
      "3108   507.348003                 NaN                    NaN  \n",
      "3109   548.058731                 NaN                    NaN  \n",
      "3110   547.358878                 NaN                         \n",
      "\n",
      "[3070 rows x 9 columns]>\n"
     ]
    },
    {
     "data": {
      "text/plain": [
       "\"\\npca = PCA(n_components=5)\\npca.fit(data)\\n#pca.components_\\ncolumns = ['pca_%i' % i for i in range(5)]\\ndf_pca = DataFrame(pca.transform(data), columns=columns, index=data.index)\\ndf_pca.head()\\n\""
      ]
     },
     "execution_count": 33,
     "metadata": {},
     "output_type": "execute_result"
    }
   ],
   "source": [
    "from sklearn.decomposition import PCA\n",
    "print(data.head)\n",
    "\n",
    "#print(data.columns)\n",
    "'''\n",
    "pca = PCA(n_components=5)\n",
    "pca.fit(data)\n",
    "#pca.components_\n",
    "columns = ['pca_%i' % i for i in range(5)]\n",
    "df_pca = DataFrame(pca.transform(data), columns=columns, index=data.index)\n",
    "df_pca.head()\n",
    "'''"
   ]
  },
  {
   "cell_type": "code",
   "execution_count": 38,
   "metadata": {
    "scrolled": false
   },
   "outputs": [
    {
     "name": "stdout",
     "output_type": "stream",
     "text": [
      "                        Year   LE_both   LE_male  LE_female  Income Level  \\\n",
      "Year                1.000000  0.187285  0.195123   0.176401      0.168288   \n",
      "LE_both             0.187285  1.000000  0.992070   0.993657      0.763546   \n",
      "LE_male             0.195123  0.992070  1.000000   0.972337      0.758186   \n",
      "LE_female           0.176401  0.993657  0.972337   1.000000      0.758519   \n",
      "Income Level        0.168288  0.763546  0.758186   0.758519      1.000000   \n",
      "GDP                 0.146966  0.587497  0.607945   0.560007      0.712903   \n",
      "Health_expenditure  0.147828  0.544997  0.559859   0.519897      0.623381   \n",
      "\n",
      "                         GDP  Health_expenditure  \n",
      "Year                0.146966            0.147828  \n",
      "LE_both             0.587497            0.544997  \n",
      "LE_male             0.607945            0.559859  \n",
      "LE_female           0.560007            0.519897  \n",
      "Income Level        0.712903            0.623381  \n",
      "GDP                 1.000000            0.915431  \n",
      "Health_expenditure  0.915431            1.000000  \n"
     ]
    },
    {
     "data": {
      "image/png": "[encoded data removed]",
      "text/plain": [
       "<Figure size 432x288 with 2 Axes>"
      ]
     },
     "metadata": {
      "needs_background": "light"
     },
     "output_type": "display_data"
    }
   ],
   "source": [
    "correlations = data.corr()\n",
    "print(correlations)\n",
    "# plot correlation matrix\n",
    "fig = plt.figure()\n",
    "ax = fig.add_subplot(111)\n",
    "cax = ax.matshow(correlations, vmin=-1, vmax=1)\n",
    "fig.colorbar(cax)\n",
    "ax.xaxis.set_tick_params(rotation=90)\n",
    "ax.set_xticklabels(data.columns)\n",
    "ax.set_yticklabels(data.columns)\n",
    "plt.show()"
   ]
  },
  {
   "cell_type": "markdown",
   "metadata": {},
   "source": [
    "As we can see this is not satisfactoring result, there is no strong correlation between GDP and life expectancy at birth. So let's look at a scatter plot and check if there is at least some linear relation between these variables."
   ]
  },
  {
   "cell_type": "code",
   "execution_count": 35,
   "metadata": {
    "scrolled": true
   },
   "outputs": [
    {
     "data": {
      "text/plain": [
       "<matplotlib.collections.PathCollection at 0x7fa15ffd4320>"
      ]
     },
     "execution_count": 35,
     "metadata": {},
     "output_type": "execute_result"
    },
    {
     "data": {
      "image/png": "[encoded data removed]",
      "text/plain": [
       "<Figure size 432x288 with 1 Axes>"
      ]
     },
     "metadata": {
      "needs_background": "light"
     },
     "output_type": "display_data"
    }
   ],
   "source": [
    "from pandas.plotting import scatter_matrix\n",
    "#scatter_matrix(data)\n",
    "#plt.show()\n",
    "# show simple scatter plot\n",
    "plt.ylabel('GDP')\n",
    "plt.xlabel('Life expectancy at birth, both sexes')\n",
    "plt.scatter(data[\"LE_both\"], data[\"GDP\"])"
   ]
  },
  {
   "cell_type": "markdown",
   "metadata": {},
   "source": [
    "Next, we'll look at the correlation between 70 and older, maybe we can get better results."
   ]
  },
  {
   "cell_type": "code",
   "execution_count": 36,
   "metadata": {},
   "outputs": [
    {
     "name": "stdout",
     "output_type": "stream",
     "text": [
      "                        Year   LE_both   LE_male  LE_female       GDP  \\\n",
      "Year                1.000000  0.176792  0.169786   0.170633  0.132430   \n",
      "LE_both             0.176792  1.000000  0.962756   0.958128  0.731436   \n",
      "LE_male             0.169786  0.962756  1.000000   0.846477  0.728348   \n",
      "LE_female           0.170633  0.958128  0.846477   1.000000  0.679895   \n",
      "GDP                 0.132430  0.731436  0.728348   0.679895  1.000000   \n",
      "Health_expenditure  0.151750  0.747082  0.716340   0.713568  0.899209   \n",
      "\n",
      "                    Health_expenditure  \n",
      "Year                          0.151750  \n",
      "LE_both                       0.747082  \n",
      "LE_male                       0.716340  \n",
      "LE_female                     0.713568  \n",
      "GDP                           0.899209  \n",
      "Health_expenditure            1.000000  \n"
     ]
    },
    {
     "data": {
      "image/png": "[encoded data removed]",
      "text/plain": [
       "<Figure size 432x288 with 2 Axes>"
      ]
     },
     "metadata": {
      "needs_background": "light"
     },
     "output_type": "display_data"
    }
   ],
   "source": [
    "data_elderly = data[data.LE_both > 70]\n",
    "correlations_elderly = data_elderly.corr()\n",
    "print(correlations_elderly)\n",
    "# plot correlation matrix\n",
    "fig = plt.figure()\n",
    "ax = fig.add_subplot(111)\n",
    "cax = ax.matshow(correlations_elderly, vmin=-1, vmax=1)\n",
    "fig.colorbar(cax)\n",
    "ax.xaxis.set_tick_params(rotation=90)\n",
    "ax.set_xticklabels(data.columns)\n",
    "ax.set_yticklabels(data.columns)\n",
    "plt.show()"
   ]
  }
 ],
 "metadata": {
  "kernelspec": {
   "display_name": "Python 3",
   "language": "python",
   "name": "python3"
  },
  "language_info": {
   "codemirror_mode": {
    "name": "ipython",
    "version": 3
   },
   "file_extension": ".py",
   "mimetype": "text/x-python",
   "name": "python",
   "nbconvert_exporter": "python",
   "pygments_lexer": "ipython3",
   "version": "3.7.0"
  }
 },
 "nbformat": 4,
 "nbformat_minor": 2
}
